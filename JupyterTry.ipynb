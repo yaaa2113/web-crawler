{
 "cells": [
  {
   "cell_type": "code",
   "execution_count": null,
   "metadata": {},
   "outputs": [],
   "source": [
    "print('helloworld')"
   ]
  },
  {
   "attachments": {},
   "cell_type": "markdown",
   "metadata": {},
   "source": [
    "python实训\n",
    "=================\n",
    ">1\n",
    ">2\n",
    ">3\n",
    ">print('helloworld')\n",
    "# ~~RUNOOB Markdown Test~~\n",
    "## `print('helloworld')`Hello World!\n",
    "这个链接用 1 作为网址变量 [Google][1]\n",
    "然后在文档的结尾为变量赋值（网址）\n",
    "\n",
    "  [1]: http://www.google.com/"
   ]
  },
  {
   "attachments": {},
   "cell_type": "markdown",
   "metadata": {},
   "source": [
    "类的基本使用方法（复习）\n",
    "=================================\n",
    "***\n",
    ">类里要有__init__函数\n",
    "__init__函数里面设置属性值，第一个传入的参数为self\n",
    "\n",
    "**如下面这个例子**\n",
    ">class CuteCat:\n",
    "    def __init__(self,cat_name,cat_age,cat_color):  \n",
    "       self.name = cat_name  \n",
    "       self.age = cat_age  \n",
    "       self.color = cat_color  \n",
    "\n",
    "__init__传入的参数就是类的属性，使用 **“self.”** 调用类本身的属性"
   ]
  },
  {
   "cell_type": "code",
   "execution_count": null,
   "metadata": {},
   "outputs": [],
   "source": [
    "class CuteCat:\n",
    "    def __init__(self,cat_name,cat_age,cat_color):\n",
    "       self.name = cat_name\n",
    "       self.age = cat_age\n",
    "       self.color = cat_color\n",
    "    def speak(self):\n",
    "        print(\"喵\" * self.age)\n",
    "cat1 = CuteCat(\"xx\",\"5\",\"yellow\")\n",
    "print(f\"小猫的名字是：{cat1.name},年龄为：{cat1.age},颜色为：{cat1.color}\")        "
   ]
  },
  {
   "attachments": {},
   "cell_type": "markdown",
   "metadata": {},
   "source": [
    "类的基本使用方法\n",
    "================================\n",
    "***\n",
    "***调用***\n",
    "-----------------------------------\n",
    "\n",
    ">class student:\n",
    ">    def __init__(self,stuname,stunum):  \n",
    ">        self.name = stuname  \n",
    ">        self.num = stunum  \n",
    ">        self.grades = {\"语文\":0,\"数学\":0,\"英语\":0}  \n",
    ">    \n",
    ">    def set_grade(self,course,grade):  \n",
    ">        if course in self.grades:  \n",
    ">            self.grades[course] = grade   \n",
    ">    \n",
    ">    def print_grade(self):  \n",
    ">        print(f\"学生{self.name}的成绩为：\")  \n",
    ">        for course in self.grades:  \n",
    ">            print(f\"{course}:{self.grades[course]}\")  \n",
    "\n",
    "再创建一个zeng对象\n",
    ">zeng = student(\"李田所\",\"114514\")  \n",
    "    zeng.set_grade(\"语文\",80)   \n",
    "    zeng.set_grade(\"数学\",100)  \n",
    "    zeng.set_grade(\"英语\",60)  \n",
    "    zeng.print_grade()  \n",
    "\n",
    "运行结果为：\n",
    ">学生李田所的成绩为：  \n",
    "语文:80  \n",
    "数学:100  \n",
    "英语:60  "
   ]
  },
  {
   "cell_type": "code",
   "execution_count": null,
   "metadata": {},
   "outputs": [],
   "source": [
    "class student:\n",
    "    def __init__(self,stuname,stunum):\n",
    "        self.name = stuname\n",
    "        self.num = stunum\n",
    "        self.grades = {\"语文\":0,\"数学\":0,\"英语\":0}\n",
    "    \n",
    "    def set_grade(self,course,grade):\n",
    "        if course in self.grades:\n",
    "            self.grades[course] = grade\n",
    "    \n",
    "    def print_grade(self):\n",
    "        print(f\"学生{self.name}的成绩为：\")\n",
    "        for course in self.grades:\n",
    "            print(f\"{course}:{self.grades[course]}\")\n",
    "\n",
    "zeng = student(\"李田所\",\"114514\")\n",
    "zeng.set_grade(\"语文\",80)\n",
    "zeng.set_grade(\"数学\",100)\n",
    "zeng.set_grade(\"英语\",60)\n",
    "zeng.print_grade()"
   ]
  },
  {
   "attachments": {},
   "cell_type": "markdown",
   "metadata": {},
   "source": [
    "***类的继承***\n",
    "--------------------------\n"
   ]
  },
  {
   "cell_type": "code",
   "execution_count": null,
   "metadata": {},
   "outputs": [],
   "source": [
    "class Mammal:\n",
    "    def __init__(self,name,sex):\n",
    "        self.name = name\n",
    "        self.sex = sex\n",
    "        self.num_eyes = 2\n",
    "        \n",
    "    def breathe(self):\n",
    "        print(self.name + \"在呼吸\")\n",
    "        \n",
    "    def poop(self):\n",
    "        print(self.name + \"在拉屎\")\n",
    "\n",
    "class Human(Mammal):\n",
    "    def read(self):\n",
    "        print(self.name + \"在阅读\")\n",
    "        \n",
    "class Cat(Mammal):\n",
    "    \"\"\" 子类调用自己的__init__函数时,只有self.has_tail,而没有self.name等属性\n",
    "    def __init__(self):\n",
    "        self.has_tail = True\n",
    "     \"\"\"\n",
    "    def __init__(self,name,sex):\n",
    "        #用supper()方法调用父类中name等属性\n",
    "        super().__init__(name,sex)\n",
    "        self.has_tail = True\n",
    "     \n",
    "    def scrath_sofa(self):\n",
    "        print(self.name + \"在抓沙发\")\n",
    "        \n",
    "    def poop(self):\n",
    "        print(self.name + \"在猫砂上拉屎\")\n",
    "        \n",
    "cat1 = Cat(\"xx\",\"男\")\n",
    "cat1.poop()"
   ]
  },
  {
   "cell_type": "code",
   "execution_count": null,
   "metadata": {},
   "outputs": [],
   "source": [
    "class yuangong:\n",
    "    def __init__(self,name,id):\n",
    "        self.name = name\n",
    "        self.id = id\n",
    "        \n",
    "    def print_info(self):\n",
    "        print(f\"姓名为：{self.name},工号为：{self.id}\")\n",
    "        \n",
    "class fullyg(yuangong):\n",
    "    def __init__(self,name,id,monthly_salary):\n",
    "        super().__init__(name,id)\n",
    "        self.monthly_salary = monthly_salary\n",
    "    \n",
    "    def calculate_pay(self):\n",
    "        return self.monthly_salary\n",
    "    \n",
    "class jzyg(yuangong):\n",
    "    def __init__(self,name,id,day_salary,work_days):\n",
    "        super().__init__(name,id)\n",
    "        self.day_salary = day_salary\n",
    "        self.work_days = work_days\n",
    "        \n",
    "    def calculate_pay(self):\n",
    "        return self.work_days * self.day_salary\n",
    "    \n",
    "zhangsan = fullyg(\"张三\",\"123\",6000)\n",
    "lisi = jzyg(\"李四\",\"124\",200,10)\n",
    "zhangsan.print_info()\n",
    "print(f\"月薪为：{zhangsan.calculate_pay()}\")\n",
    "lisi.print_info()\n",
    "print(f\"月薪为：{lisi.calculate_pay()}\")"
   ]
  },
  {
   "attachments": {},
   "cell_type": "markdown",
   "metadata": {},
   "source": [
    "爬虫三步  \n",
    "1.找到网页  \n",
    "2.筛选数据  \n",
    "3.数据储存/分析  \n",
    "============================"
   ]
  },
  {
   "attachments": {},
   "cell_type": "markdown",
   "metadata": {},
   "source": [
    "一、用requests库进行request请求\n",
    "===============================\n",
    "得到http状态码，等于200则成功  \n",
    "3、4、5开头都表示失败  \n",
    "respone = requests.get(\"网址\")  \n",
    "可以利用requests中的'ok'属性判断是否请求成功  "
   ]
  },
  {
   "cell_type": "code",
   "execution_count": null,
   "metadata": {},
   "outputs": [],
   "source": [
    "import requests\n",
    "requests.head = { \"User-Agent\":\"Mozilla/5.0(Windows NT 10.0;Win64;x64)\"}#用head头将爬虫伪装成浏览器\n",
    "respone = requests.get(\"https://books.toscrape.com/\")#这个是专门练习爬虫的网站\n",
    "print(respone)\n",
    "if respone.ok:\n",
    "    print(respone.text)#打印网页源码\n",
    "else:\n",
    "    print(\"请求失败\")"
   ]
  },
  {
   "attachments": {},
   "cell_type": "markdown",
   "metadata": {},
   "source": [
    "实例：用requests库拿到豆瓣源码\n",
    "============================"
   ]
  },
  {
   "cell_type": "code",
   "execution_count": null,
   "metadata": {},
   "outputs": [],
   "source": [
    "import requests\n",
    "headers = {\n",
    "    #随便进入一个网页，然后在右键检查找到网络，然后刷新网页，找到任意一个http请求的User-Agent，复制粘贴\n",
    "    \"User-Agent\" :\"Mozilla/5.0 (Windows NT 10.0; Win64; x64) AppleWebKit/537.36 (KHTML, like Gecko) Chrome/114.0.0.0 Safari/537.36 Edg/114.0.1823.58\"\n",
    "}\n",
    "respone = requests.get(\"https://movie.douban.com/top250\",headers = headers)\n",
    "# print(respone)#或者使用respone.status_code来获取状态码\n",
    "print(respone.text)"
   ]
  },
  {
   "attachments": {},
   "cell_type": "markdown",
   "metadata": {},
   "source": [
    "二、用Pyquery库筛选数据\n",
    "========================="
   ]
  },
  {
   "cell_type": "code",
   "execution_count": null,
   "metadata": {},
   "outputs": [],
   "source": [
    "from pyquery import PyQuery as pq\n",
    "import requests\n",
    "\n",
    "respone = requests.get(\"https://books.toscrape.com/\")\n",
    "respone.encoding = \"utf-8\"\n",
    "doc = pq(respone.text)\n",
    "#获取ul标签里li里的标签内容\n",
    "print(doc('ul li'))\n",
    "#print(doc('.product_pod'))"
   ]
  },
  {
   "attachments": {},
   "cell_type": "markdown",
   "metadata": {},
   "source": [
    "三、数据储存\n",
    "===================="
   ]
  },
  {
   "cell_type": "code",
   "execution_count": null,
   "metadata": {},
   "outputs": [],
   "source": [
    "import requests\n",
    "\n",
    "url = \"https://img.peapix.com/edfb9eaee09d454dbc5ad584f1024266_UHD.jpg?attachment&modal\"\n",
    "response = requests.get(url, stream=True)\n",
    "if response.status_code == 200:\n",
    "    with open(\"downloads/test.jpg\", \"wb\") as fp:#把url中的图片以test.jpg的名字，二进制的存入download\n",
    "    \tfor chunk in response.iter_content(chunk_size=1024):\n",
    "            fp.write(chunk)"
   ]
  },
  {
   "attachments": {},
   "cell_type": "markdown",
   "metadata": {},
   "source": [
    "多线程\n",
    "=========="
   ]
  },
  {
   "attachments": {},
   "cell_type": "markdown",
   "metadata": {},
   "source": [
    "导入threading包，主要使用里面的Thread()函数,使用.start()开始线程，使用.join()阻塞线程"
   ]
  },
  {
   "cell_type": "code",
   "execution_count": null,
   "metadata": {},
   "outputs": [],
   "source": [
    "import threading\n",
    "from time import sleep, ctime\n",
    "\n",
    "\n",
    "def task(sec, name):\n",
    "    print(name)\n",
    "    sleep(sec)\n",
    "\n",
    "\n",
    "def main():\n",
    "    t1 = threading.Thread(task(1, \"线程1\"))\n",
    "    t2 = threading.Thread(task(2, \"线程2\"))\n",
    "\n",
    "    t1.start()\n",
    "    t2.start()\n",
    "\n",
    "    t1.join()\n",
    "    t2.join()\n",
    "\n",
    "\n",
    "main()"
   ]
  },
  {
   "attachments": {},
   "cell_type": "markdown",
   "metadata": {},
   "source": [
    "**线程池**  \n",
    "使用**from concurrent.futures import ThreadPoolExecutor**导入线程池模块"
   ]
  },
  {
   "cell_type": "code",
   "execution_count": null,
   "metadata": {},
   "outputs": [],
   "source": [
    "#创建线程\n",
    "from concurrent.futures import ThreadPoolExecutor\n",
    "\n",
    "#创建一个包含2条线程的线程池\n",
    "pool = ThreadPoolExecutor(max_workers = 2)  #定义两个线程"
   ]
  },
  {
   "attachments": {},
   "cell_type": "markdown",
   "metadata": {},
   "source": [
    "submit（）  \n",
    "提交线程需要执行的任务（函数名和参数）到线程池中，立刻返回一个future对象。  \n",
    "\n",
    "map()  \n",
    "除了 submit，ThreadPoolExecutor 还提供了 map 函数来添加线程，与常规的 map 类似，区别在于线程池的 map() 函数会为 iterables 的每个元素启动一个线程，以并发方式来执行 func 函数. 同时，使用 map 函数，还会自动获取返回值。"
   ]
  },
  {
   "cell_type": "code",
   "execution_count": null,
   "metadata": {},
   "outputs": [],
   "source": [
    "from concurrent.futures import ThreadPoolExecutor, as_completed\n",
    "import time\n",
    "\n",
    "\n",
    "def get_html(times):\n",
    "    time.sleep(times)\n",
    "    print(\"get page {} success\".format(times))\n",
    "    return times\n",
    "\n",
    "\n",
    "executor = ThreadPoolExecutor(max_workers=3)\n",
    "task1 = executor.submit(get_html, (3))  # 第一个是回调函数，第二个是传给函数的参数\n",
    "task2 = executor.submit(get_html, (2))\n",
    "\n",
    "# done方法用于判定某个任务是否完成\n",
    "print(task1.done())\n",
    "\n",
    "# cancel方法用于取消某个任务\n",
    "print(task2.cancel())\n",
    "\n",
    "# result方法可以获取task的执行结果, 这个方法是阻塞的\n",
    "print(task1.result())\n",
    "\n",
    "urls = [3, 2, 4]  # 并不是真的url\n",
    "all_task = [executor.submit(get_html, (url)) for url in urls]\n",
    "\n",
    "for future in as_completed(all_task):\n",
    "    data = future.result()\n",
    "    print(\"in main: get page {}s success\".format(data))\n",
    "\n",
    "for data in executor.map(get_html, urls):\n",
    "    print(\"get {} page\".format(data))"
   ]
  },
  {
   "cell_type": "code",
   "execution_count": null,
   "metadata": {},
   "outputs": [],
   "source": [
    "import requests\n",
    "src = 'media/cache/2c/da/2cdad67c44b002e7ead0cc35693c0e8b.jpg'\n",
    "res = requests.get(f\"https://books.toscrape.com/{src}\")\n",
    "print(res.text)"
   ]
  },
  {
   "attachments": {},
   "cell_type": "markdown",
   "metadata": {},
   "source": [
    "可视化\n",
    "=================="
   ]
  },
  {
   "cell_type": "code",
   "execution_count": null,
   "metadata": {},
   "outputs": [],
   "source": [
    "import matplotlib.pyplot as plt\n",
    "plt.title(\"标题\")#括号当中输入标题的名称\n",
    "plt.rcParams['font.sans-serif']=['SimHei']\n",
    "plt.show()"
   ]
  },
  {
   "cell_type": "code",
   "execution_count": null,
   "metadata": {},
   "outputs": [],
   "source": [
    "from re import split\n",
    "import jieba\n",
    "s = open(r'C:/Users/yaaa/PycharmProjects/词频统计/tittle.txt','r',encoding='utf-8').read()\n",
    "rp_str = ': , ; 、 ? ———— '' () # ! \\n'\n",
    "for i in rp_str:\n",
    "    s = s.replace(i,'')\n",
    "s =''.join(s,split())\n",
    "jieba.load_userdict(r'C:/Users/yaaa/PycharmProjects/词频统计/tittle.txt')\n",
    "words = jieba.lcut(s)\n",
    "\n",
    "stopwords = open(r'C:/Users/yaaa/PycharmProjects/词频统计/tittle.txt','w',encoding='utf-8').read()\n",
    "stopwords_list = list(stopwords)\n",
    "\n",
    "words_dict = {}\n",
    "for i in words:\n",
    "    if len(i) == 1:\n",
    "        continue\n",
    "    if i not in stopwords_list:\n",
    "        words_dict[i] = words_dict.get(i,0) + 1\n",
    "words_list = list(words_dict.items())\n",
    "words_list.sort(key = lambda x:x[1],reverse=True)\n",
    "words_count = dict(words_list)\n",
    "# print(words_count)\n",
    "\n",
    "f = open('C:/Users/yaaa/PycharmProjects/词频统计/tittlecount.txt','w',encoding= 'utf-8')\n",
    "for i in range(len(words_list)):\n",
    "    k,v = words_list[i]#k,v取word_list中的键和值\n",
    "    f.write('{:<8} {:>2}\\n'.format(k,v))\n",
    "f.close()"
   ]
  },
  {
   "cell_type": "code",
   "execution_count": null,
   "metadata": {},
   "outputs": [],
   "source": [
    "from imageio import imread\n",
    "import wordcloud\n",
    "txt = open(r'C:/Users/yaaa/PycharmProjects/词频统计/tittlecount.txt','r',encoding='utf-8').read()\n",
    "w = wordcloud.WordCloud(background_color='white',width=1000,height=800,font_path='C:/Windows/Fonts/STCAIYUN.TTF',mask=imread(r'C:/Users/yaaa/PycharmProjects/词频统计/1.png'))\n",
    "w.generate(txt)\n",
    "w.to_file('C:/Users/yaaa/PycharmProjects/词频统计/tittle.png')"
   ]
  }
 ],
 "metadata": {
  "kernelspec": {
   "display_name": "venv",
   "language": "python",
   "name": "python3"
  },
  "language_info": {
   "codemirror_mode": {
    "name": "ipython",
    "version": 3
   },
   "file_extension": ".py",
   "mimetype": "text/x-python",
   "name": "python",
   "nbconvert_exporter": "python",
   "pygments_lexer": "ipython3",
   "version": "3.9.5"
  },
  "orig_nbformat": 4
 },
 "nbformat": 4,
 "nbformat_minor": 2
}
